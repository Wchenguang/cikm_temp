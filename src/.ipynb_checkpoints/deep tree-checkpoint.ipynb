{
 "cells": [
  {
   "cell_type": "code",
   "execution_count": 1,
   "metadata": {},
   "outputs": [],
   "source": [
    "import pandas as pd"
   ]
  },
  {
   "cell_type": "code",
   "execution_count": 2,
   "metadata": {},
   "outputs": [],
   "source": [
    "data_path = \"../data/ECommAI_EUIR_round1_train_20190701/\"\n",
    "item_path = data_path + \"item.csv\"\n",
    "user_path = data_path + \"user.csv\"\n",
    "behavior_path = data_path + \"user_behavior.csv\""
   ]
  },
  {
   "cell_type": "code",
   "execution_count": 3,
   "metadata": {},
   "outputs": [],
   "source": [
    "user_data = pd.read_csv(user_path, header = None)\n",
    "user_data.columns = ['uid', 'sex', 'age', 'power']\n",
    "item_data = pd.read_csv(item_path, header = None)\n",
    "item_data.columns = ['item_id', 'class_id', 'shop_id', 'grand_id']\n",
    "behavior_data = pd.read_csv(behavior_path, header = None)\n",
    "behavior_data.columns = ['uid', 'item_id', 'action', 'time_stamp']"
   ]
  },
  {
   "cell_type": "code",
   "execution_count": 4,
   "metadata": {},
   "outputs": [],
   "source": [
    "import pickle\n",
    "save_data_path = \"../data/save/\"\n",
    "def pic_save(obj, filename):\n",
    "    with open(save_data_path + filename, 'wb') as f:\n",
    "        pickle.dump(obj, f, 0)\n",
    "def pic_read(filename):\n",
    "    with open(save_data_path + filename, 'rb') as f:\n",
    "        obj = pickle.load(f)\n",
    "    return obj"
   ]
  },
  {
   "cell_type": "code",
   "execution_count": 6,
   "metadata": {},
   "outputs": [],
   "source": [
    "class \n",
    "    pass"
   ]
  },
  {
   "cell_type": "code",
   "execution_count": null,
   "metadata": {},
   "outputs": [],
   "source": []
  }
 ],
 "metadata": {
  "kernelspec": {
   "display_name": "Python 3",
   "language": "python",
   "name": "python3"
  },
  "language_info": {
   "codemirror_mode": {
    "name": "ipython",
    "version": 3
   },
   "file_extension": ".py",
   "mimetype": "text/x-python",
   "name": "python",
   "nbconvert_exporter": "python",
   "pygments_lexer": "ipython3",
   "version": "3.7.3"
  }
 },
 "nbformat": 4,
 "nbformat_minor": 2
}
